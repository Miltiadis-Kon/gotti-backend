{
 "cells": [
  {
   "cell_type": "markdown",
   "metadata": {},
   "source": [
    "Welcome to Gotti.ai \n",
    "\n",
    "This notebook presents the core functionality of the application.\n"
   ]
  },
  {
   "cell_type": "markdown",
   "metadata": {},
   "source": [
    "First we must install the required packages\n"
   ]
  },
  {
   "cell_type": "code",
   "execution_count": null,
   "metadata": {},
   "outputs": [],
   "source": [
    "pip install -r requirements.txt"
   ]
  },
  {
   "cell_type": "code",
   "execution_count": null,
   "metadata": {},
   "outputs": [],
   "source": [
    "pip install -i https://test.pypi.org/simple/ stock-indicators==1.3.1.dev9"
   ]
  },
  {
   "cell_type": "markdown",
   "metadata": {},
   "source": [
    "To get the historical stock data of a specific ticket we are using yahoo finance!\n",
    "\n",
    "The below code will fetch the historical data for the stock symbol ‘AAPL’ for the last  day with a 1-minute interval. \n"
   ]
  },
  {
   "cell_type": "code",
   "execution_count": null,
   "metadata": {},
   "outputs": [],
   "source": [
    "# Import the yfinance library\n",
    "import yfinance as yf\n",
    "\n",
    "# Function to get the ticker data\n",
    "def get_ticker(stock_symbol, timespan, time):\n",
    "    # Fetch data from yfinance\n",
    "    ticker = yf.Ticker(stock_symbol)\n",
    "    # Fetch historical data from yfinance\n",
    "    data = ticker.history(period=timespan, interval=time)\n",
    "    return data\n",
    "\n",
    "# Example: Get the data for the stock symbol 'AAPL' for the last 5 days with 1 minute interval\n",
    "data = get_ticker('AAPL', '1d', '1m')\n",
    "print(data) "
   ]
  },
  {
   "cell_type": "code",
   "execution_count": null,
   "metadata": {},
   "outputs": [],
   "source": [
    "import mplfinance as mpf\n",
    "# Inspect the DataFrame structure\n",
    "#print(data.columns)\n",
    "#print(data.head())\n",
    "\n",
    "# Plot the candlestick chart\n",
    "\n",
    "mpf.plot(data, type='candle', style='charles', title='Candlestick Chart', ylabel='Price')\n"
   ]
  },
  {
   "cell_type": "markdown",
   "metadata": {},
   "source": [
    "You can get your data from any resource you want! \n",
    "However it is important to have the ohlcv format for analyis!\n",
    "Note that:\n",
    "1. The ohlcv format is a short for open-high-low-close-volume. \n",
    "2. date is always required, while each ohlcv values are optional - however they play a key role for the model! \n",
    "3. ohlcv can be provided by float, Decimal and str representing number, but these are always stored as Decimal.\n",
    "\n",
    "\n",
    "For technical analysis we utilize the stock-indicators library.\n",
    "\n",
    "First we have to format the data :\n",
    "\n"
   ]
  },
  {
   "cell_type": "code",
   "execution_count": null,
   "metadata": {},
   "outputs": [],
   "source": [
    "# Suppose that you have dataframe like the below.\n",
    "#             date    open    high     low   close     volume\n",
    "# 0     2018-12-31  244.92  245.54  242.87  245.28  147031456\n",
    "# 1     2018-12-28  244.94  246.73  241.87  243.15  155998912\n",
    "# 2     2018-12-27  238.06  243.68  234.52  243.46  189794032\n",
    "# ...          ...     ...     ...     ...     ...        ...\n",
    "\n",
    "from stock_indicators import Quote\n",
    "\n",
    "\n",
    "print(data.columns)\n",
    "\n",
    "print(data.head())\n",
    "\n",
    "def get_historical_quotes(data):\n",
    "    quotes_list = [\n",
    "        Quote(d,o,h,l,c,v) \n",
    "        for d,o,h,l,c,v \n",
    "        in zip(data.index, data['Open'], data['High'], data['Low'], data['Close'], data['Volume'])\n",
    "    ]\n",
    "    return quotes_list\n",
    "\n",
    "# Example: Get the historical quotes for the data\n",
    "quotes = get_historical_quotes(data)"
   ]
  },
  {
   "cell_type": "markdown",
   "metadata": {},
   "source": [
    "Then we can try to abuse a simple movinge average indicator"
   ]
  },
  {
   "cell_type": "code",
   "execution_count": null,
   "metadata": {},
   "outputs": [],
   "source": [
    "from stock_indicators import indicators\n",
    "from decimal import Decimal as PyDecimal\n",
    "from stock_indicators import CandlePart\n",
    "\n",
    "\n",
    "# fetch historical quotes from your feed (your method)\n",
    "quotes = get_historical_quotes(data)\n",
    "\n",
    "# Log the quotes\n",
    "def log(quotes):\n",
    "    for q in quotes:\n",
    "        print(f\"Quote on {q.date.time()} - O:{q.open}, H:{q.high}, L:{q.low}, C:{q.close}, V:{q.volume}\")\n",
    "\n",
    "#log(quotes)\n",
    "\n",
    "\n",
    "# calculate 20-period SMA\n",
    "sma = indicators.get_sma(quotes, 20).remove_warmup_periods()\n",
    "#for i in range(len(sma)):\n",
    "#    print(f\"SMA on {quotes[i].date.time()} - {sma[i].sma}\")\n",
    "\n",
    "# calculate 20-period EMA\n",
    "ema = indicators.get_ema(quotes, 20, CandlePart.OHLC4).remove_warmup_periods()\n",
    "#for i in range(len(ema)):\n",
    "#    print(f\"EMA on {quotes[i].date.time()} - {ema[i].ema}\")"
   ]
  }
 ],
 "metadata": {
  "kernelspec": {
   "display_name": "Python 3",
   "language": "python",
   "name": "python3"
  },
  "language_info": {
   "codemirror_mode": {
    "name": "ipython",
    "version": 3
   },
   "file_extension": ".py",
   "mimetype": "text/x-python",
   "name": "python",
   "nbconvert_exporter": "python",
   "pygments_lexer": "ipython3",
   "version": "3.11.9"
  }
 },
 "nbformat": 4,
 "nbformat_minor": 2
}
